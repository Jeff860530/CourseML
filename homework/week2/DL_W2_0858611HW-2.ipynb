{
  "nbformat": 4,
  "nbformat_minor": 0,
  "metadata": {
    "kernelspec": {
      "display_name": "Python 3",
      "language": "python",
      "name": "python3"
    },
    "language_info": {
      "codemirror_mode": {
        "name": "ipython",
        "version": 3
      },
      "file_extension": ".py",
      "mimetype": "text/x-python",
      "name": "python",
      "nbconvert_exporter": "python",
      "pygments_lexer": "ipython3",
      "version": "3.6.5"
    },
    "colab": {
      "name": "01-FeedForward-Forward Propagation.ipynb",
      "provenance": [],
      "collapsed_sections": []
    }
  },
  "cells": [
    {
      "cell_type": "code",
      "metadata": {
        "id": "Ai4C6SUWb7z9",
        "colab_type": "code",
        "colab": {}
      },
      "source": [
        "import numpy as np"
      ],
      "execution_count": 0,
      "outputs": []
    },
    {
      "cell_type": "code",
      "metadata": {
        "id": "XiBv9dZkb70A",
        "colab_type": "code",
        "colab": {}
      },
      "source": [
        "%run magic.ipynb\n",
        "# or copy paste the cell from https://github.com/tjwei/CrashCourseML/blob/master/DIY_NN/magic.ipynb"
      ],
      "execution_count": 0,
      "outputs": []
    },
    {
      "cell_type": "markdown",
      "metadata": {
        "id": "7ZAKinaOb70C",
        "colab_type": "text"
      },
      "source": [
        "## Feedforward Network\n",
        "一樣有輸入 x, 輸出  y。 但是中間預測、計算的樣子有點不同。\n",
        "<img src=\"https://upload.wikimedia.org/wikipedia/en/5/54/Feed_forward_neural_net.gif\" />\n",
        "\n",
        "\n"
      ]
    },
    {
      "cell_type": "markdown",
      "metadata": {
        "id": "IwQsyF3ab70D",
        "colab_type": "text"
      },
      "source": [
        "### 模型是這樣的\n",
        "一樣考慮輸入是四維向量，輸出有 3 個類別。\n",
        "\n",
        "我們的輸入 $x=\\begin{pmatrix} x_0 \\\\ x_1 \\\\ x_2 \\\\ x_3 \\end{pmatrix} $ 是一個向量，我們看成 column vector 好了\n",
        "\n",
        "### 第 0 層\n",
        "而 Weight: $ \n",
        "W^{(0)} = \\begin{pmatrix} W^{(0)}_0 \\\\ W^{(0)}_1 \\\\ W^{(0)}_2 \\\\ W^{(0)}_3 \\\\ W^{(0)}_4 \\\\ W^{(0)}_5 \\end{pmatrix} =  \n",
        "\\begin{pmatrix} \n",
        "W^{(0)}_{0,0} & W^{(0)}_{0,1} &  W^{(0)}_{0,2} & W^{(0)}_{0,3}\\\\ \n",
        "W^{(0)}_{0,0} & W^{(0)}_{0,1} &  W^{(0)}_{0,2} & W^{(0)}_{0,3}\\\\ \n",
        "W^{(0)}_{0,0} & W^{(0)}_{0,1} &  W^{(0)}_{0,2} & W^{(0)}_{0,3}\\\\ \n",
        "W^{(0)}_{0,0} & W^{(0)}_{0,1} &  W^{(0)}_{0,2} & W^{(0)}_{0,3}\\\\ \n",
        "W^{(0)}_{0,0} & W^{(0)}_{0,1} &  W^{(0)}_{0,2} & W^{(0)}_{0,3}\\\\ \n",
        "W^{(0)}_{0,0} & W^{(0)}_{0,1} &  W^{(0)}_{0,2} & W^{(0)}_{0,3}\n",
        " \\end{pmatrix} $\n",
        " \n",
        " Bias: $b^{(0)}=\\begin{pmatrix} b^{(0)}_0 \\\\ b^{(0)}_1 \\\\ b^{(0)}_2  \\\\ b^{(0)}_3 \\\\ b^{(0)}_4 \\\\ b^{(0)}_5 \\end{pmatrix} $ \n",
        "\n",
        "\n",
        "我們先計算\"線性輸出\"  $ c^{(0)} = \\begin{pmatrix} c^{(0)}_0 \\\\ c^{(0)}_1 \\\\ c^{(0)}_2  \\\\ c^{(0)}_3 \\\\ c^{(0)}_4 \\\\ c^{(0)}_5 \\end{pmatrix} =  W^{(0)}x+b^{(0)} =\n",
        "\\begin{pmatrix} W^{(0)}_0 x + b^{(0)}_0 \\\\ W^{(0)}_1 x + b^{(0)}_1 \\\\ W^{(0)}_2 x + b^{(0)}_2 \\\\\n",
        "W^{(0)}_3 x + b^{(0)}_3 \\\\ W^{(0)}_4 x + b^{(0)}_4 \\\\ W^{(0)}_5 x + b^{(0)}_5  \\end{pmatrix}   $， \n",
        "\n",
        "然後再將結果逐項對一個非線性的函數 $f$  最後得到一個向量。\n",
        " \n",
        " $d^{(0)} = \\begin{pmatrix} d^{(0)}_0 \\\\ d^{(0)}_1 \\\\ d^{(0)}_2  \\\\ d^{(0)}_3 \\\\ d^{(0)}_4 \\\\ d^{(0)}_5 \\end{pmatrix} \n",
        " = f({W x + b}) = \\begin{pmatrix} f(c^{(0)}_0) \\\\ f(c^{(0)}_1) \\\\ f(c^{(0)}_2)  \\\\ f(c^{(0)}_3) \\\\ f(c^{(0)}_4) \\\\ f(c^{(0)}_5) \\end{pmatrix} $\n",
        " \n",
        "這裡的 $f$ 常常會用 sigmoid , tanh，或者 ReLU ( https://en.wikipedia.org/wiki/Activation_function )。\n",
        "\n",
        "### 第 1 層\n",
        "這裡接到輸出，其實和 softmax regression 一樣。\n",
        "\n",
        "只是輸入變成 $d^{(0)}, Weight 和 Bias 現在叫做 W^{(1)} 和 b^{(1)} \n",
        "\n",
        "因為維度改變，現在 W^{(1)} 是 3x6 的矩陣。 後面接到的輸出都一樣。\n",
        "\n",
        "所以線性輸出\n",
        "\n",
        "### $ c^{(1)} =  W^{(1)} d^{(0)} + b^{(1)} $\n",
        "\n",
        "### $ d^{(1)} =  e^{c^{(1)}} $\n",
        "\n",
        "\n",
        "\n",
        "當輸入為 x, 最後的 softmax 預測類別是 i 的機率為\n",
        "###  $q_i = Predict_{W^{(0)}, W^{(1)}, b^{(0)}, b^{(1)}}(Y=i|x)  = \\frac {d^{(1)}_i} {\\sum_j d^{(1)}_j}$\n",
        "### 合起來看，就是 $q = \\frac {d^{(1)}} {\\sum_j d^{(1)}_j}$"
      ]
    },
    {
      "cell_type": "markdown",
      "metadata": {
        "id": "7jW4bQbzb70E",
        "colab_type": "text"
      },
      "source": [
        "### 問題\n",
        "如果 $W^{(0)}, W^{(1)}, b^{(0)}, b^{(1)}$ 設定為 $A, b, C, d$ (C, d 與前面無關)\n",
        "\n",
        "softmax function 用\n",
        "### $\\sigma (\\mathbf {z} )_{j}={\\frac {e^{z_{j}}}{\\sum _k e^{z_{k}}}}$\n",
        "表示，我們簡化上面的過程成為一個算式。"
      ]
    },
    {
      "cell_type": "code",
      "metadata": {
        "id": "hxro4A6Gb70E",
        "colab_type": "code",
        "colab": {}
      },
      "source": [
        "# 參考答案\n",
        "%run solutions/ff_oneline.py"
      ],
      "execution_count": 0,
      "outputs": []
    },
    {
      "cell_type": "code",
      "metadata": {
        "id": "FdliYVVOd-7e",
        "colab_type": "code",
        "colab": {}
      },
      "source": [
        "#所有定義迴圈\n",
        "#下方有測試出來的矩陣\n",
        "import numpy as np\n",
        "import random\n",
        "\n",
        "def softmax(x):\n",
        "    t = np.exp(x)\n",
        "    return t/t.sum()\n",
        "def relu(x):\n",
        "    return np.maximum(x, 0)\n",
        "def Matrix(*a):\n",
        "    if len(a)==1 and isinstance(a[0], np.ndarray):\n",
        "        a = a[0]\n",
        "    return np.array([[float(x) for x in r] for r in a])\n",
        "\n",
        "def Vector(*a):\n",
        "    if len(a)==1 and isinstance(a[0], np.ndarray):\n",
        "        a = a[0]\n",
        "    return np.array([float(x) for x in a]).reshape(-1,1)\n",
        "\n",
        "def Random_Matrix(row,column,start,finish):   \n",
        "    matrix = [np.array(np.random.randint(start,finish, size=column)) for i in range(row)]\n",
        "    return np.array(matrix)\n",
        "#define function\n",
        "\n",
        "\n",
        "def test_matrix_accuracy_4(times):\n",
        "    best_count = 0\n",
        "    best_matrix= np.array([])\n",
        "    for i in range(times):\n",
        "        W = Random_Matrix(4,4,-2,2)\n",
        "        b = Vector(0,0,0,0)\n",
        "        count = 0\n",
        "        for i in range(16):\n",
        "            x = Vector(i%2, (i>>1)%2, (i>>2)%2, (i>>3)%2)\n",
        "            r = W @ x + b\n",
        "            #print(\"i=\", i, \"predict:\", r.argmax(), \"ground truth:\", i%4)\n",
        "            if( r.argmax()== (i%4) ):\n",
        "              count+=1    \n",
        "        if(count>best_count):\n",
        "            best_count=count\n",
        "            best_matrix = W     \n",
        "    return best_count,best_matrix\n",
        "\n",
        "\n",
        "def test_matrix_accuracy_3(times):\n",
        "    best_count = 0\n",
        "    best_matrix_A= np.array([])\n",
        "    best_matrix_C= np.array([])\n",
        "    B = Vector(0.1,0,0,-12,-12)\n",
        "    D = Vector(0,0,0) \n",
        "    for i in range(times):\n",
        "        A = Random_Matrix(5,4,-3,3)\n",
        "        C = Random_Matrix(3,5,-3,3)\n",
        "        count = 0\n",
        "        for i in range(16):\n",
        "            x = Vector(i%2, (i>>1)%2, (i>>2)%2, (i>>3)%2)\n",
        "            q = softmax(C@relu(A@x+B)+D)\n",
        "            #print(\"i={}, i%3={}, q={}\".format(i, i%3, q.argmax()))\n",
        "            if( q.argmax()== (i%3) ):\n",
        "              count+=1 \n",
        "        if(count>best_count):\n",
        "            best_count=count\n",
        "            best_matrix_A = A\n",
        "            best_matrix_C = C\n",
        "    return best_count,best_matrix_A,best_matrix_C\n",
        "\n",
        "#找餘數4的迴圈\n",
        "times=100000\n",
        "best_count,best_matrix=test_matrix_accuracy_4(times)\n",
        "print(\"Best Accuracy:{}%\".format(best_count*100/16))\n",
        "print(\"Best Matric:\")\n",
        "print(best_matrix)\n",
        "\n",
        "#找餘數3的迴圈\n",
        "times=100000\n",
        "best_count,best_matrix_A,best_matrix_C=test_matrix_accuracy_3(times)\n",
        "print(\"Best Accuracy:{}%\".format(best_count*100/16))\n",
        "print(\"Best Matric A:\")\n",
        "print(best_matrix_A)\n",
        "print(\"Best Matric C:\")\n",
        "print(best_matrix_C)\n",
        "\n",
        "\n",
        "print(\"------------------------------------------\")\n",
        "\n",
        "\n",
        "#找圈圈叉叉的迴圈\n",
        "import numpy as np\n",
        "\n",
        "def Random_Matrix(row,column,start,finish):   \n",
        "    matrix = np.random.randint(start,finish, size=(column,row))\n",
        "    return np.array(matrix)\n",
        "Matrix = []\n",
        "Matrix.append([[1, 1, 1],[0, 0, 0],[0, 0, 0]])\n",
        "Matrix.append([[0, 0, 0],[1, 1, 1],[0, 0, 0]])\n",
        "Matrix.append([[0, 0, 0],[0, 0, 0],[1, 1, 1]])\n",
        "Matrix.append([[1, 0, 0],[1, 0, 0],[1, 0, 0]])\n",
        "Matrix.append([[0, 1, 0],[0, 1, 0],[0, 1, 0]])\n",
        "Matrix.append([[0, 0, 1],[0, 0, 1],[0, 0, 1]])\n",
        "Matrix.append([[1, 0, 0],[0, 1, 0],[0, 0, 1]])\n",
        "Matrix.append([[0, 0, 1],[0, 1, 0],[1, 0, 0]])\n",
        "Matrix.append([[0, 0, 0],[0, 0, 0],[0, 0, 0]])\n",
        "Matrix_array = np.array(Matrix)\n",
        "\n",
        "Matrix_array[8]\n",
        "test_Matrix= Random_Matrix(3,3,0,2)\n",
        "\n",
        "def find_Matrix_situation(test_Matrix,Matrix_array):\n",
        "  Matrix_situation=np.array([1,0])\n",
        "  sumofmatrix=0 \n",
        "  for i in range(8):\n",
        "      Matrix_multiplication=test_Matrix*Matrix_array[i]\n",
        "      sumofmatrix = Matrix_multiplication.sum()\n",
        "      if(sumofmatrix==3):\n",
        "          Matrix_situation=np.array([0,1])\n",
        "          return Matrix_situation,i,sumofmatrix\n",
        "  return Matrix_situation,8,sumofmatrix   \n",
        "\n",
        "def test(times):\n",
        "  for j in range(times):\n",
        "    test_Matrix= Random_Matrix(3,3,0,2)\n",
        "    Matrix_situation,i,sumofmatrix=find_Matrix_situation(test_Matrix,Matrix_array)\n",
        "  return Matrix_situation,test_Matrix\n",
        "\n",
        "test(100)\n",
        "\n",
        "def test_matrix_accuracy_OOXX(matrixtimes,ooxxtimes):\n",
        "    best_count = 0\n",
        "    best_matrix_A= np.array([])\n",
        "    b = Vector(-2,-2,-2,-2,-2,-2,-2,-2)\n",
        "    C = Matrix([-1,-1,-1,-1,-1,-1,-1,-1],[1,1,1,1,1,1,1,1])\n",
        "    d = Vector(1, 0) \n",
        "    for i in range(matrixtimes):\n",
        "        A = Random_Matrix(8,9,0,2)\n",
        "        count = 0\n",
        "        for j in range(ooxxtimes):\n",
        "            board = Random_Matrix(3,3,0,2)\n",
        "            board\n",
        "            #print( \"\\n\".join(\"\".join(\"_X\"[k] for k in  board[j]) for j in range(3)) )\n",
        "            x = Vector(board.ravel())\n",
        "            board.ravel()\n",
        "            z = A@x+b\n",
        "            q = softmax(C@relu(A@x+b)+d)\n",
        "            if( q.argmax()== Matrix_situation[1] ):\n",
        "                count+=1 \n",
        "            print(board)\n",
        "            print(\"q.argmax():\",q.argmax())\n",
        "            print(\"Matrix_situation[1]:\",Matrix_situation[1])\n",
        "        print(\"Accuracy:{}%\".format(count*100/ooxxtimes))\n",
        "        if(count>best_count):\n",
        "            best_count=count\n",
        "            best_matrix_A = A\n",
        "    return best_count,best_matrix_A\n"
      ],
      "execution_count": 0,
      "outputs": []
    },
    {
      "cell_type": "markdown",
      "metadata": {
        "id": "08nx-V5Ib70G",
        "colab_type": "text"
      },
      "source": [
        "### 任務：計算最後的猜測機率 $q$\n",
        "設定：輸入 4 維， 輸出 3 維， 隱藏層 6 維\n",
        "* 設定一些權重 $A,b,C,d$ (隨意自行填入，或者用 np.random.randint(-2,3, size=...))\n",
        "* 設定輸入 $x$ (隨意自行填入，或者用 np.random.randint(-2,3, size=...))\n",
        "* 自行定義 relu, sigmoid 函數 (Hint: np.maximum)\n",
        "* 算出隱藏層 $z$\n",
        "* 自行定義 softmax\n",
        "* 算出最後的 q"
      ]
    },
    {
      "cell_type": "code",
      "metadata": {
        "id": "NguMyRGKb70H",
        "colab_type": "code",
        "colab": {}
      },
      "source": [
        "# 請在這裡計算\n",
        "#作業使用老師的function透過自動產生矩陣找出高準度的矩陣\n",
        "#前面分為3個部分為3小題\n",
        "#First part \n",
        "#Question1:input a binary representation of a number and classify\n",
        "#                          by it's remainder when divided by 4 (with 100% accuracy)\n",
        "W = Matrix([-2,-2,-1,1], [0,-1,-1,1], [-1,1,-1,1], [0,1,-1,1])\n",
        "b = Vector(0,0,0,0)\n",
        "count = 0\n",
        "for i in range(16):\n",
        "    x = Vector(i%2, (i>>1)%2, (i>>2)%2, (i>>3)%2)\n",
        "    #print(x)\n",
        "    r = W @ x + b\n",
        "    #print(r)\n",
        "    print(\"i=\", i, \"predict:\", r.argmax(), \"ground truth:\", i%4)\n",
        "    if( r.argmax()== (i%4) ):\n",
        "      count+=1\n",
        "print(\"Accuracy:{}%\".format(count*100/16))\n",
        "\n"
      ],
      "execution_count": 0,
      "outputs": []
    },
    {
      "cell_type": "code",
      "metadata": {
        "id": "EgaNnAQPb70J",
        "colab_type": "code",
        "colab": {}
      },
      "source": [
        "# 參考答案，設定權重\n",
        "%run -i solutions/ff_init_variables.py\n",
        "display(A)\n",
        "display(b)\n",
        "display(C)\n",
        "display(d)\n",
        "display(x)"
      ],
      "execution_count": 0,
      "outputs": []
    },
    {
      "cell_type": "code",
      "metadata": {
        "id": "vJbgWOwZb70L",
        "colab_type": "code",
        "colab": {}
      },
      "source": [
        "# 參考答案 定義 relu, sigmoid 及計算 z\n",
        "%run -i solutions/ff_compute_z.py\n",
        "display(z_relu)\n",
        "display(z_sigmoid)"
      ],
      "execution_count": 0,
      "outputs": []
    },
    {
      "cell_type": "code",
      "metadata": {
        "id": "5gee2P6Pb70N",
        "colab_type": "code",
        "colab": {}
      },
      "source": [
        "# 參考答案 定義 softmax 及計算 q\n",
        "%run -i solutions/ff_compute_q.py\n",
        "display(q_relu)\n",
        "display(q_sigmoid)\n"
      ],
      "execution_count": 0,
      "outputs": []
    },
    {
      "cell_type": "markdown",
      "metadata": {
        "id": "GKPQrt58b70O",
        "colab_type": "text"
      },
      "source": [
        "### 練習\n",
        "設計一個網路:\n",
        "* 輸入是二進位 0 ~ 15\n",
        "* 輸出依照對於 3 的餘數分成三類\n"
      ]
    },
    {
      "cell_type": "code",
      "metadata": {
        "id": "uDmRH2hIb70P",
        "colab_type": "code",
        "colab": {}
      },
      "source": [
        "# Hint 下面產生數字 i 的 2 進位向量\n",
        "i = 13\n",
        "x = Vector(i%2, (i>>1)%2, (i>>2)%2, (i>>3)%2)\n",
        "x"
      ],
      "execution_count": 0,
      "outputs": []
    },
    {
      "cell_type": "code",
      "metadata": {
        "id": "KP0_YHb9b70S",
        "colab_type": "code",
        "colab": {}
      },
      "source": [
        "# 請在這裡計算\n",
        "#Second part \n",
        "#Question2: input a binary representation of a number and classify\n",
        "#                      by it's remainder when divided by 3 (with high accuracy)\n",
        "A = Matrix([ 0, 0, 1,-1], \n",
        "           [ 1,-1, 1,-1], \n",
        "           [-1, 1,-1, 1],\n",
        "           [ 1, 0, 0, 1],\n",
        "           [-1, 1, 1, 0],\n",
        "           )\n",
        "\n",
        "b = Vector(0.1,0,0,-12,-12)\n",
        "\n",
        "C = Matrix([0,-2,-2,-1,1],\n",
        "           [0,1,0,1,1],\n",
        "           [0,0,1,1,0],\n",
        "          )\n",
        "\n",
        "d = Vector(0,0,0) \n",
        "\n",
        "count = 0\n",
        "unmber = 16\n",
        "for i in range(unmber):\n",
        "    x = Vector(i%2, (i>>1)%2, (i>>2)%2, (i>>3)%2)\n",
        "    q = softmax(C@relu(A@x+b)+d)\n",
        "    print(\"i={}, i%3={}, q={}\".format(i, i%3, q.argmax()))\n",
        "    if( q.argmax()== (i%3) ):\n",
        "      count+=1\n",
        "print(\"Accuracy:{}%\".format(count*100/unmber))\n"
      ],
      "execution_count": 0,
      "outputs": []
    },
    {
      "cell_type": "code",
      "metadata": {
        "id": "eqS9Juwib70U",
        "colab_type": "code",
        "colab": {}
      },
      "source": [
        "# 參考解答\n",
        "%run -i solutions/ff_mod3.py"
      ],
      "execution_count": 0,
      "outputs": []
    },
    {
      "cell_type": "markdown",
      "metadata": {
        "id": "pc6laLaPb70W",
        "colab_type": "text"
      },
      "source": [
        "### 練習\n",
        "設計一個網路來判斷井字棋是否有連成直線(只需要判斷其中一方即可):\n",
        "* 輸入是 9 維向量，0 代表空格，1 代表有下子 \n",
        "* 輸出是二維(softmax)或一維(sigmoid)皆可，用來代表 True, False\n",
        "\n",
        "有連線的例子\n",
        "\n",
        "```\n",
        "_X_\n",
        "X__\n",
        "XXX\n",
        "\n",
        "XXX\n",
        "XX_\n",
        "_XX\n",
        "\n",
        "__X\n",
        "_XX\n",
        "X__\n",
        "```\n",
        "\n",
        "沒連線的例子\n",
        "```\n",
        "XX_\n",
        "X__\n",
        "_XX\n",
        "\n",
        "_X_\n",
        "XX_\n",
        "X_X\n",
        "\n",
        "__X\n",
        "_XX\n",
        "_X_\n",
        "```"
      ]
    },
    {
      "cell_type": "code",
      "metadata": {
        "id": "uHI8SI-ib70X",
        "colab_type": "code",
        "colab": {}
      },
      "source": [
        "# 請在這裡計算\n",
        "A = Matrix([1,1,1,0,0,0,0,0,0], \n",
        "           [0,0,0,1,1,1,0,0,0], \n",
        "           [0,0,0,0,0,0,1,1,1], \n",
        "           [1,0,0,1,0,0,1,0,0], \n",
        "           [0,1,0,0,1,0,0,1,0], \n",
        "           [0,0,1,0,0,1,0,0,1], \n",
        "           [1,0,0,0,1,0,0,0,1], \n",
        "           [0,0,1,0,1,0,1,0,0])#(8*9)\n",
        "\n",
        "\n",
        "b = Vector(-2,-2,-2,-2,-2,-2,-2,-2)#(1*8)\n",
        "C = Matrix([-1,-1,-1,-1,-1,-1,-1,-1],[1,1,1,1,1,1,1,1])#(2*8)\n",
        "d = Vector(1, 0) \n",
        "for i in range(10):\n",
        "    board = np.random.randint(0,2, size=(3,3))\n",
        "    board\n",
        "    print( \"\\n\".join(\"\".join(\"_X\"[k] for k in  board[j]) for j in range(3)) )\n",
        "    x = Vector(board.ravel()) #(8*1)\n",
        "    board.ravel()\n",
        "    z = A@x+b\n",
        "    q = softmax(C@relu(A@x+b)+d)\n",
        "    print(\"q={}\\n\".format(q.argmax()))\n"
      ],
      "execution_count": 0,
      "outputs": []
    },
    {
      "cell_type": "code",
      "metadata": {
        "id": "YzkZvKrab70Z",
        "colab_type": "code",
        "colab": {}
      },
      "source": [
        "#參考答案\n",
        "%run -i solutions/ff_tic_tac_toe.py"
      ],
      "execution_count": 0,
      "outputs": []
    },
    {
      "cell_type": "code",
      "metadata": {
        "id": "eGW5JY_fb70a",
        "colab_type": "code",
        "colab": {}
      },
      "source": [
        "# 測試你的答案\n",
        "def my_result(x):\n",
        "    # return 0 means no, 1 means yes\n",
        "    return (C@relu(A@x+b)+d).argmax()\n",
        "    # or sigmoid based\n",
        "    # return (C@relu(A@x+b)+d) > 0\n",
        "\n",
        "def truth(x):\n",
        "    x = x.reshape(3,3)\n",
        "    return (x.all(axis=0).any() or\n",
        "            x.all(axis=1).any() or\n",
        "            x.diagonal().all() or\n",
        "            x[::-1].diagonal().all())\n",
        "\n",
        "for i in range(512):\n",
        "    x = np.array([[(i>>j)&1] for j in range(9)])\n",
        "    assert my_result(x) == truth(x)\n",
        "print(\"test passed\")"
      ],
      "execution_count": 0,
      "outputs": []
    },
    {
      "cell_type": "code",
      "metadata": {
        "id": "PWSWAwdcb70c",
        "colab_type": "code",
        "colab": {}
      },
      "source": [
        ""
      ],
      "execution_count": 0,
      "outputs": []
    }
  ]
}