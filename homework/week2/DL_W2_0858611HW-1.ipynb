{
  "nbformat": 4,
  "nbformat_minor": 0,
  "metadata": {
    "kernelspec": {
      "display_name": "Python 3",
      "language": "python",
      "name": "python3"
    },
    "language_info": {
      "codemirror_mode": {
        "name": "ipython",
        "version": 3
      },
      "file_extension": ".py",
      "mimetype": "text/x-python",
      "name": "python",
      "nbconvert_exporter": "python",
      "pygments_lexer": "ipython3",
      "version": "3.6.0"
    },
    "colab": {
      "name": "01-From NumPy to MNIST.ipynb",
      "provenance": []
    }
  },
  "cells": [
    {
      "cell_type": "markdown",
      "metadata": {
        "id": "i8UjTUULetUr",
        "colab_type": "text"
      },
      "source": [
        "# 用 NumPy 就能辨識數字"
      ]
    },
    {
      "cell_type": "code",
      "metadata": {
        "id": "vfqS4hA-etUx",
        "colab_type": "code",
        "colab": {}
      },
      "source": [
        "from PIL import Image\n",
        "import numpy as np"
      ],
      "execution_count": 0,
      "outputs": []
    },
    {
      "cell_type": "code",
      "metadata": {
        "id": "XKnuApRZe_PR",
        "colab_type": "code",
        "colab": {}
      },
      "source": [
        "#作業1\n",
        "#line1~30 is Course-practice\n",
        "u = train_X[0]#儲存第0個數字\n",
        "v = train_X[1]#儲存第1個數字\n",
        "\n",
        "w = train_X[21]#儲存第21個數字\n",
        "x = train_X[1]#儲存第1個數字\n",
        "\n",
        "showX(u)\n",
        "#u的本質是一個很大的矩陣\n",
        "#print(u)\n",
        "\n",
        "print(\"--------------\")\n",
        "\n",
        "showX(v)#v也是個很大的矩陣\n",
        "#print(v)\n",
        "\n",
        "print(\"--------------\")\n",
        "\n",
        "#print(((u - v)**2))\n",
        "print ( ((u - v)**2).sum() )#直接取方差合\n",
        "#根據這兩個大矩陣的數字來進行方差若方差很小代表兩個數字的特徵很像\n",
        "\n",
        "print ( np.linalg.norm(u-v)**2 )#函數取方差合\n",
        "print(\"以上存取數字5和0不同數字所以方差大\")\n",
        "\n",
        "print(\"取兩個0為例(取1可能歪歪的方差也很大)\")\n",
        "showX(w)\n",
        "showX(x)\n",
        "print (\"方差:\", ((w - x)**2).sum() )\n",
        "print(\"以上了解找nearest neighbor的方法==>使用方差合最小來找最小特徵(矩陣的數字)差異最小者\")\n",
        "\n",
        "#the following is homework1\n",
        "print(\"-----------------------------------------------------------------\")\n",
        "print(\"Question:Use nearest neighbor method to do handwritten digit recognition \")\n",
        "print(\"顯示要找的圖片test_X[0]的圖案\")\n",
        "showX(test_X[0])\n",
        "#showX(train_X[10000000])會顯示error\n",
        "#train內只有50000個數據\n",
        "\n",
        "print(\"計算方差\")\n",
        "print(\"找出train_X中每個數據 與 test_X[0]的方差合\")\n",
        "Variance = ((train_X - test_X[0])**2).sum(axis=1)\n",
        "\n",
        "print(\"找出方差合最小的 index (訓練集合中最像test_X[0]的項目)\")\n",
        "idx = Variance.argmin()\n",
        "\n",
        "print(\"找到的train集合中 第38620個數據\")\n",
        "print(\"train_X[{}]\".format(idx))\n",
        "\n",
        "print(\"show出訓練集中最像的圖片\")\n",
        "showX(train_X[idx])\n",
        "\n",
        "print(\"印出訓練集合第38620個數據 和 標籤內容(train_y[index])\")\n",
        "print(\"train_X[{}] = {}\".format(idx, train_y[idx]))\n",
        "\n",
        "print(\"印出標籤\")\n",
        "print(\"test_y[0] =\", test_y[0])\n"
      ],
      "execution_count": 0,
      "outputs": []
    },
    {
      "cell_type": "markdown",
      "metadata": {
        "id": "2RLbjMIaetU-",
        "colab_type": "text"
      },
      "source": [
        "先下載 MNIST 資料"
      ]
    },
    {
      "cell_type": "code",
      "metadata": {
        "id": "E2U48fCeetVB",
        "colab_type": "code",
        "colab": {}
      },
      "source": [
        "import os\n",
        "import urllib\n",
        "from urllib.request import urlretrieve\n",
        "dataset = 'mnist.pkl.gz'\n",
        "def reporthook(a,b,c):\n",
        "    print(\"\\rdownloading: %5.1f%%\"%(a*b*100.0/c), end=\"\")\n",
        "    \n",
        "if not os.path.isfile(dataset):\n",
        "        origin = \"https://github.com/mnielsen/neural-networks-and-deep-learning/raw/master/data/mnist.pkl.gz\"\n",
        "        print('Downloading data from %s' % origin)\n",
        "        urlretrieve(origin, dataset, reporthook=reporthook)"
      ],
      "execution_count": 0,
      "outputs": []
    },
    {
      "cell_type": "code",
      "metadata": {
        "id": "g1l3dsfwetVM",
        "colab_type": "code",
        "colab": {}
      },
      "source": [
        "import gzip\n",
        "import pickle\n",
        "with gzip.open(dataset, 'rb') as f:\n",
        "    train_set, validation_set, test_set = pickle.load(f, encoding='latin1')"
      ],
      "execution_count": 0,
      "outputs": []
    },
    {
      "cell_type": "markdown",
      "metadata": {
        "id": "PGtg9O3-etVY",
        "colab_type": "text"
      },
      "source": [
        "## Q\n",
        "先看看這些資料是什麼吧！"
      ]
    },
    {
      "cell_type": "code",
      "metadata": {
        "id": "-QhQ1OddetVb",
        "colab_type": "code",
        "colab": {},
        "outputId": "ec63c2bd-44ad-4c3f-c757-84131627c8fd"
      },
      "source": [
        "%run -i q_see_mnist_data.py"
      ],
      "execution_count": 0,
      "outputs": [
        {
          "output_type": "stream",
          "text": [
            "train_set[0]:      shape=(50000, 784)\t dtype=float32\n",
            "train_set[1]:      shape=(50000,)\t dtype=int64\n",
            "validation_set[0]: shape=(10000, 784)\t dtype=float32\n",
            "validation_set[1]: shape=(10000,)\t dtype=int64\n",
            "test_set[0]:       shape=(10000, 784)\t dtype=float32\n",
            "test_set[1]:       shape=(10000,)\t dtype=int64\n"
          ],
          "name": "stdout"
        }
      ]
    },
    {
      "cell_type": "markdown",
      "metadata": {
        "id": "-z0jcE1cetVn",
        "colab_type": "text"
      },
      "source": [
        "# Supervised Learning\n",
        "\n",
        "<img src=\"supervised.svg\" />\n",
        "類比：\n",
        "<img src=\"supervised2.svg\" />\n",
        "類比：\n",
        "中文房間"
      ]
    },
    {
      "cell_type": "code",
      "metadata": {
        "id": "fUXdP69netVq",
        "colab_type": "code",
        "colab": {}
      },
      "source": [
        "train_X, train_y = train_set\n",
        "test_X, test_y = test_set"
      ],
      "execution_count": 0,
      "outputs": []
    },
    {
      "cell_type": "markdown",
      "metadata": {
        "id": "ln8NsPb2etV3",
        "colab_type": "text"
      },
      "source": [
        "### 看一下 MNIST 的 y 是什麼"
      ]
    },
    {
      "cell_type": "code",
      "metadata": {
        "id": "AUCntuY6etV7",
        "colab_type": "code",
        "colab": {},
        "outputId": "3c0ac3ca-5239-4ee1-f14a-5f483b772cab"
      },
      "source": [
        "# 訓練資料， y 的前 20 筆\n",
        "train_y[:20]"
      ],
      "execution_count": 0,
      "outputs": [
        {
          "output_type": "execute_result",
          "data": {
            "text/plain": [
              "array([5, 0, 4, 1, 9, 2, 1, 3, 1, 4, 3, 5, 3, 6, 1, 7, 2, 8, 6, 9])"
            ]
          },
          "metadata": {
            "tags": []
          },
          "execution_count": 6
        }
      ]
    },
    {
      "cell_type": "markdown",
      "metadata": {
        "id": "60VI0sAoetWH",
        "colab_type": "text"
      },
      "source": [
        "### 看一下 MNIST 的 X"
      ]
    },
    {
      "cell_type": "code",
      "metadata": {
        "id": "0p6wjhJZetWL",
        "colab_type": "code",
        "colab": {},
        "outputId": "eafa24bb-fedb-463c-82a3-448c198cd8ba"
      },
      "source": [
        "from IPython.display import display\n",
        "def showX(X):\n",
        "    int_X = (X*255).clip(0,255).astype('uint8')\n",
        "    # N*784 -> N*28*28 -> 28*N*28 -> 28 * 28N\n",
        "    int_X_reshape = int_X.reshape(-1,28,28).swapaxes(0,1).reshape(28,-1)\n",
        "    display(Image.fromarray(int_X_reshape))\n",
        "# 訓練資料， X 的前 20 筆\n",
        "showX(train_X[:20])"
      ],
      "execution_count": 0,
      "outputs": [
        {
          "output_type": "display_data",
          "data": {
            "image/png": "[encoded data removed]",
            "text/plain": [
              "<PIL.Image.Image image mode=L size=560x28 at 0x7F6434370630>"
            ]
          },
          "metadata": {
            "tags": []
          }
        }
      ]
    },
    {
      "cell_type": "markdown",
      "metadata": {
        "id": "kwdPN4kbetWX",
        "colab_type": "text"
      },
      "source": [
        "### 先從簡單的方法開始\n",
        "笨方法，直接比較，找最接近的圖。\n",
        "\n",
        "先試試看使用方差好了"
      ]
    },
    {
      "cell_type": "markdown",
      "metadata": {
        "id": "2bM4C6cOetWb",
        "colab_type": "text"
      },
      "source": [
        "## Q \n",
        "計算 u, v 方差\n",
        "```python\n",
        "u = train_X[0]\n",
        "v = train_X[1]\n",
        "```"
      ]
    },
    {
      "cell_type": "code",
      "metadata": {
        "id": "eH5NzlMSetWf",
        "colab_type": "code",
        "colab": {},
        "outputId": "22b543a6-bf33-4eff-9531-e1b9a4bc7361"
      },
      "source": [
        "%run -i q_square_error.py"
      ],
      "execution_count": 0,
      "outputs": [
        {
          "output_type": "stream",
          "text": [
            "86.9492\n",
            "86.9491830207\n"
          ],
          "name": "stdout"
        }
      ]
    },
    {
      "cell_type": "markdown",
      "metadata": {
        "id": "dHe2lSYbetWn",
        "colab_type": "text"
      },
      "source": [
        "## Q \n",
        "試著\n",
        "* 顯示 test_X[0]\n",
        "* 在 `train_X` 中找出最像 `test_X[0]` 的圖片編號\n",
        "* display 那張最圖片\n",
        "* 然後查看對應的 `train_y`\n",
        "* 看看 test_y[0]"
      ]
    },
    {
      "cell_type": "code",
      "metadata": {
        "id": "V1bnHfe7etWr",
        "colab_type": "code",
        "colab": {},
        "outputId": "1db2e525-60b5-42fb-cff8-90c3a3350dd5"
      },
      "source": [
        "%run -i q_find_nn_0.py"
      ],
      "execution_count": 0,
      "outputs": [
        {
          "output_type": "display_data",
          "data": {
            "image/png": "[encoded data removed]",
            "text/plain": [
              "<PIL.Image.Image image mode=L size=28x28 at 0x7F641334DC18>"
            ]
          },
          "metadata": {
            "tags": []
          }
        },
        {
          "output_type": "stream",
          "text": [
            "train_X[38620]\n"
          ],
          "name": "stdout"
        },
        {
          "output_type": "display_data",
          "data": {
            "image/png": "[encoded data removed]",
            "text/plain": [
              "<PIL.Image.Image image mode=L size=28x28 at 0x7F641334D6D8>"
            ]
          },
          "metadata": {
            "tags": []
          }
        },
        {
          "output_type": "stream",
          "text": [
            "train_X[38620] = 7\n",
            "test_y[0] = 7\n"
          ],
          "name": "stdout"
        }
      ]
    },
    {
      "cell_type": "markdown",
      "metadata": {
        "id": "6Y2ZPJdHetW8",
        "colab_type": "text"
      },
      "source": [
        "## Q\n",
        "\n",
        "拿前面10/100個 `test_X` 做同樣的事情，然後統計一準確度。"
      ]
    },
    {
      "cell_type": "code",
      "metadata": {
        "id": "j-leBDieetW_",
        "colab_type": "code",
        "colab": {},
        "outputId": "41f425c2-e3dd-4b6b-89af-bcb997038371"
      },
      "source": [
        "%run -i q_find_nn_10.py"
      ],
      "execution_count": 0,
      "outputs": [
        {
          "output_type": "stream",
          "text": [
            "test_X[0]\n"
          ],
          "name": "stdout"
        },
        {
          "output_type": "display_data",
          "data": {
            "image/png": "[encoded data removed]",
            "text/plain": [
              "<PIL.Image.Image image mode=L size=28x28 at 0x7F641334DBA8>"
            ]
          },
          "metadata": {
            "tags": []
          }
        },
        {
          "output_type": "stream",
          "text": [
            "train_X[38620]\n"
          ],
          "name": "stdout"
        },
        {
          "output_type": "display_data",
          "data": {
            "image/png": "[encoded data removed]",
            "text/plain": [
              "<PIL.Image.Image image mode=L size=28x28 at 0x7F641334DEF0>"
            ]
          },
          "metadata": {
            "tags": []
          }
        },
        {
          "output_type": "stream",
          "text": [
            "train_X[38620] = 7\n",
            "train_X[0] = 7\n",
            "test_X[1]\n"
          ],
          "name": "stdout"
        },
        {
          "output_type": "display_data",
          "data": {
            "image/png": "[encoded data removed]",
            "text/plain": [
              "<PIL.Image.Image image mode=L size=28x28 at 0x7F641334DF28>"
            ]
          },
          "metadata": {
            "tags": []
          }
        },
        {
          "output_type": "stream",
          "text": [
            "train_X[28882]\n"
          ],
          "name": "stdout"
        },
        {
          "output_type": "display_data",
          "data": {
            "image/png": "[encoded data removed]",
            "text/plain": [
              "<PIL.Image.Image image mode=L size=28x28 at 0x7F641334D630>"
            ]
          },
          "metadata": {
            "tags": []
          }
        },
        {
          "output_type": "stream",
          "text": [
            "train_X[28882] = 2\n",
            "train_X[1] = 2\n",
            "test_X[2]\n"
          ],
          "name": "stdout"
        },
        {
          "output_type": "display_data",
          "data": {
            "image/png": "[encoded data removed]",
            "text/plain": [
              "<PIL.Image.Image image mode=L size=28x28 at 0x7F641334D5C0>"
            ]
          },
          "metadata": {
            "tags": []
          }
        },
        {
          "output_type": "stream",
          "text": [
            "train_X[46512]\n"
          ],
          "name": "stdout"
        },
        {
          "output_type": "display_data",
          "data": {
            "image/png": "[encoded data removed]",
            "text/plain": [
              "<PIL.Image.Image image mode=L size=28x28 at 0x7F641334D908>"
            ]
          },
          "metadata": {
            "tags": []
          }
        },
        {
          "output_type": "stream",
          "text": [
            "train_X[46512] = 1\n",
            "train_X[2] = 1\n",
            "test_X[3]\n"
          ],
          "name": "stdout"
        },
        {
          "output_type": "display_data",
          "data": {
            "image/png": "[encoded data removed]",
            "text/plain": [
              "<PIL.Image.Image image mode=L size=28x28 at 0x7F641334DF28>"
            ]
          },
          "metadata": {
            "tags": []
          }
        },
        {
          "output_type": "stream",
          "text": [
            "train_X[29044]\n"
          ],
          "name": "stdout"
        },
        {
          "output_type": "display_data",
          "data": {
            "image/png": "[encoded data removed]",
            "text/plain": [
              "<PIL.Image.Image image mode=L size=28x28 at 0x7F641334DF60>"
            ]
          },
          "metadata": {
            "tags": []
          }
        },
        {
          "output_type": "stream",
          "text": [
            "train_X[29044] = 0\n",
            "train_X[3] = 0\n",
            "test_X[4]\n"
          ],
          "name": "stdout"
        },
        {
          "output_type": "display_data",
          "data": {
            "image/png": "[encoded data removed]",
            "text/plain": [
              "<PIL.Image.Image image mode=L size=28x28 at 0x7F641334D9E8>"
            ]
          },
          "metadata": {
            "tags": []
          }
        },
        {
          "output_type": "stream",
          "text": [
            "train_X[40094]\n"
          ],
          "name": "stdout"
        },
        {
          "output_type": "display_data",
          "data": {
            "image/png": "[encoded data removed]",
            "text/plain": [
              "<PIL.Image.Image image mode=L size=28x28 at 0x7F641334DF60>"
            ]
          },
          "metadata": {
            "tags": []
          }
        },
        {
          "output_type": "stream",
          "text": [
            "train_X[40094] = 4\n",
            "train_X[4] = 4\n",
            "test_X[5]\n"
          ],
          "name": "stdout"
        },
        {
          "output_type": "display_data",
          "data": {
            "image/png": "[encoded data removed]",
            "text/plain": [
              "<PIL.Image.Image image mode=L size=28x28 at 0x7F641334DBA8>"
            ]
          },
          "metadata": {
            "tags": []
          }
        },
        {
          "output_type": "stream",
          "text": [
            "train_X[30809]\n"
          ],
          "name": "stdout"
        },
        {
          "output_type": "display_data",
          "data": {
            "image/png": "[encoded data removed]",
            "text/plain": [
              "<PIL.Image.Image image mode=L size=28x28 at 0x7F641334DFD0>"
            ]
          },
          "metadata": {
            "tags": []
          }
        },
        {
          "output_type": "stream",
          "text": [
            "train_X[30809] = 1\n",
            "train_X[5] = 1\n",
            "test_X[6]\n"
          ],
          "name": "stdout"
        },
        {
          "output_type": "display_data",
          "data": {
            "image/png": "[encoded data removed]",
            "text/plain": [
              "<PIL.Image.Image image mode=L size=28x28 at 0x7F641334DD68>"
            ]
          },
          "metadata": {
            "tags": []
          }
        },
        {
          "output_type": "stream",
          "text": [
            "train_X[18279]\n"
          ],
          "name": "stdout"
        },
        {
          "output_type": "display_data",
          "data": {
            "image/png": "[encoded data removed]",
            "text/plain": [
              "<PIL.Image.Image image mode=L size=28x28 at 0x7F641334DF28>"
            ]
          },
          "metadata": {
            "tags": []
          }
        },
        {
          "output_type": "stream",
          "text": [
            "train_X[18279] = 4\n",
            "train_X[6] = 4\n",
            "test_X[7]\n"
          ],
          "name": "stdout"
        },
        {
          "output_type": "display_data",
          "data": {
            "image/png": "[encoded data removed]",
            "text/plain": [
              "<PIL.Image.Image image mode=L size=28x28 at 0x7F641334DF60>"
            ]
          },
          "metadata": {
            "tags": []
          }
        },
        {
          "output_type": "stream",
          "text": [
            "train_X[41982]\n"
          ],
          "name": "stdout"
        },
        {
          "output_type": "display_data",
          "data": {
            "image/png": "[encoded data removed]",
            "text/plain": [
              "<PIL.Image.Image image mode=L size=28x28 at 0x7F641334DF60>"
            ]
          },
          "metadata": {
            "tags": []
          }
        },
        {
          "output_type": "stream",
          "text": [
            "train_X[41982] = 9\n",
            "train_X[7] = 9\n",
            "test_X[8]\n"
          ],
          "name": "stdout"
        },
        {
          "output_type": "display_data",
          "data": {
            "image/png": "[encoded data removed]",
            "text/plain": [
              "<PIL.Image.Image image mode=L size=28x28 at 0x7F641334DBA8>"
            ]
          },
          "metadata": {
            "tags": []
          }
        },
        {
          "output_type": "stream",
          "text": [
            "train_X[35628]\n"
          ],
          "name": "stdout"
        },
        {
          "output_type": "display_data",
          "data": {
            "image/png": "[encoded data removed]",
            "text/plain": [
              "<PIL.Image.Image image mode=L size=28x28 at 0x7F641334DFD0>"
            ]
          },
          "metadata": {
            "tags": []
          }
        },
        {
          "output_type": "stream",
          "text": [
            "train_X[35628] = 5\n",
            "train_X[8] = 5\n",
            "test_X[9]\n"
          ],
          "name": "stdout"
        },
        {
          "output_type": "display_data",
          "data": {
            "image/png": "[encoded data removed]",
            "text/plain": [
              "<PIL.Image.Image image mode=L size=28x28 at 0x7F641334DD68>"
            ]
          },
          "metadata": {
            "tags": []
          }
        },
        {
          "output_type": "stream",
          "text": [
            "train_X[5044]\n"
          ],
          "name": "stdout"
        },
        {
          "output_type": "display_data",
          "data": {
            "image/png": "[encoded data removed]",
            "text/plain": [
              "<PIL.Image.Image image mode=L size=28x28 at 0x7F641334DFD0>"
            ]
          },
          "metadata": {
            "tags": []
          }
        },
        {
          "output_type": "stream",
          "text": [
            "train_X[5044] = 9\n",
            "train_X[9] = 9\n",
            "Accuracy 1.0\n"
          ],
          "name": "stdout"
        }
      ]
    },
    {
      "cell_type": "markdown",
      "metadata": {
        "id": "FL3D7o1getXJ",
        "colab_type": "text"
      },
      "source": [
        "## Q\n",
        "如果 train_X 只有 500 筆資料呢？\n",
        "\n",
        "利用 reshaping,  broadcasting 技巧， 算出對 `test_X[:100]` 的準確度！\n",
        "\n",
        "Hint: `np.expand_dims` 來取代 `np.reshape`"
      ]
    },
    {
      "cell_type": "code",
      "metadata": {
        "id": "jE1s2maFetXM",
        "colab_type": "code",
        "colab": {}
      },
      "source": [
        "# !可能會用掉太多記憶體!\n",
        "#%run -i q_small_data.py\n",
        "# accuracy: 85%"
      ],
      "execution_count": 0,
      "outputs": []
    },
    {
      "cell_type": "markdown",
      "metadata": {
        "id": "2YdY7qwqetXV",
        "colab_type": "text"
      },
      "source": [
        "## Q\n",
        "用其他距離函數? e.g.  `np.abs(...).sum()`"
      ]
    },
    {
      "cell_type": "markdown",
      "metadata": {
        "id": "5N9QO4GMetXY",
        "colab_type": "text"
      },
      "source": [
        "### 改用來內積取代方差\n",
        "$$\n",
        "\\begin{align*}\n",
        "\\left\\Vert \\mathbf{u}-\\mathbf{v}\\right\\Vert ^{2} & =\\left(\\mathbf{u}-\\mathbf{v}\\right)\\cdot\\left(\\mathbf{u}-\\mathbf{v}\\right)\\\\\n",
        " & =\\left\\Vert \\mathbf{u}\\right\\Vert ^{2}-2\\mathbf{u}\\cdot\\mathbf{v}+\\left\\Vert \\mathbf{v}\\right\\Vert ^{2}\\\\\n",
        "\\end{align*}\n",
        "$$\n"
      ]
    },
    {
      "cell_type": "code",
      "metadata": {
        "id": "fsnmWr9retXe",
        "colab_type": "code",
        "colab": {}
      },
      "source": [
        "# 資料 normalize\n",
        "train_X  = train_X / np.linalg.norm(train_X, axis=1, keepdims=True)\n",
        "test_X  = test_X / np.linalg.norm(test_X, axis=1, keepdims=True)"
      ],
      "execution_count": 0,
      "outputs": []
    },
    {
      "cell_type": "code",
      "metadata": {
        "id": "JmuavKu-etXn",
        "colab_type": "code",
        "colab": {},
        "outputId": "fd28a309-ce2d-4c6e-8d64-a364e7abe86d"
      },
      "source": [
        "# 矩陣乘法 == 大量計算內積\n",
        "A = test_X @ train_X.T\n",
        "print(A.shape)"
      ],
      "execution_count": 0,
      "outputs": [
        {
          "output_type": "stream",
          "text": [
            "(10000, 50000)\n"
          ],
          "name": "stdout"
        }
      ]
    },
    {
      "cell_type": "code",
      "metadata": {
        "id": "83AkyfAVetXx",
        "colab_type": "code",
        "colab": {},
        "outputId": "efcf2f3a-e0ac-422c-c434-a1ba3a32fa82"
      },
      "source": [
        "A.argmax(axis=1)"
      ],
      "execution_count": 0,
      "outputs": [
        {
          "output_type": "execute_result",
          "data": {
            "text/plain": [
              "array([44566, 28882, 15224, ...,  3261,  1311, 22424])"
            ]
          },
          "metadata": {
            "tags": []
          },
          "execution_count": 14
        }
      ]
    },
    {
      "cell_type": "code",
      "metadata": {
        "id": "kADiQ6zYetX2",
        "colab_type": "code",
        "colab": {}
      },
      "source": [
        "predict_y = train_y[A.argmax(axis=1)]"
      ],
      "execution_count": 0,
      "outputs": []
    },
    {
      "cell_type": "code",
      "metadata": {
        "id": "J_sz-VfgetX7",
        "colab_type": "code",
        "colab": {},
        "outputId": "053e9b09-a246-4a91-8714-1c19664dd856"
      },
      "source": [
        "# 測試資料， X 的前 20 筆\n",
        "showX(test_set[0][:20])"
      ],
      "execution_count": 0,
      "outputs": [
        {
          "output_type": "display_data",
          "data": {
            "image/png": "[encoded data removed]",
            "text/plain": [
              "<PIL.Image.Image image mode=L size=560x28 at 0x7F6413688080>"
            ]
          },
          "metadata": {
            "tags": []
          }
        }
      ]
    },
    {
      "cell_type": "code",
      "metadata": {
        "id": "xsAfKPiuetYB",
        "colab_type": "code",
        "colab": {},
        "outputId": "0766d4be-22e7-402f-9c76-56612155de84"
      },
      "source": [
        "# 猜測的 Y 前20筆\n",
        "predict_y[:20]"
      ],
      "execution_count": 0,
      "outputs": [
        {
          "output_type": "execute_result",
          "data": {
            "text/plain": [
              "array([7, 2, 1, 0, 4, 1, 4, 9, 5, 9, 0, 6, 9, 0, 1, 5, 9, 7, 3, 4])"
            ]
          },
          "metadata": {
            "tags": []
          },
          "execution_count": 17
        }
      ]
    },
    {
      "cell_type": "code",
      "metadata": {
        "id": "oEOn6FYRetYI",
        "colab_type": "code",
        "colab": {},
        "outputId": "0e2fdc16-cb80-4ad4-85e1-375c661c90ba"
      },
      "source": [
        "#測試資料的 y 前 20 筆\n",
        "test_y[:20]"
      ],
      "execution_count": 0,
      "outputs": [
        {
          "output_type": "execute_result",
          "data": {
            "text/plain": [
              "array([7, 2, 1, 0, 4, 1, 4, 9, 5, 9, 0, 6, 9, 0, 1, 5, 9, 7, 3, 4])"
            ]
          },
          "metadata": {
            "tags": []
          },
          "execution_count": 18
        }
      ]
    },
    {
      "cell_type": "code",
      "metadata": {
        "id": "0QXeIUR7etYN",
        "colab_type": "code",
        "colab": {},
        "outputId": "7623d7be-d743-4cfe-8db0-9a80d75d0898"
      },
      "source": [
        "# 正確率\n",
        "(predict_y == test_y).mean()"
      ],
      "execution_count": 0,
      "outputs": [
        {
          "output_type": "execute_result",
          "data": {
            "text/plain": [
              "0.9708"
            ]
          },
          "metadata": {
            "tags": []
          },
          "execution_count": 19
        }
      ]
    },
    {
      "cell_type": "markdown",
      "metadata": {
        "id": "ABqqh_hjetYP",
        "colab_type": "text"
      },
      "source": [
        "### 用 PCA 降低維度\n"
      ]
    },
    {
      "cell_type": "code",
      "metadata": {
        "id": "5l_PwCtSetYQ",
        "colab_type": "code",
        "colab": {}
      },
      "source": [
        "from sklearn.decomposition import PCA\n",
        "pca = PCA(n_components=60)\n",
        "train_X = pca.fit_transform(train_set[0])\n",
        "test_X = pca.transform(test_set[0])"
      ],
      "execution_count": 0,
      "outputs": []
    },
    {
      "cell_type": "code",
      "metadata": {
        "id": "vkUn3r_netYS",
        "colab_type": "code",
        "colab": {},
        "outputId": "64108cb3-723b-43e4-deb5-bba997683c88"
      },
      "source": [
        "train_X.shape"
      ],
      "execution_count": 0,
      "outputs": [
        {
          "output_type": "execute_result",
          "data": {
            "text/plain": [
              "(50000, 60)"
            ]
          },
          "metadata": {
            "tags": []
          },
          "execution_count": 21
        }
      ]
    },
    {
      "cell_type": "code",
      "metadata": {
        "id": "I1PJJU4netYV",
        "colab_type": "code",
        "colab": {}
      },
      "source": [
        "train_X /= np.linalg.norm(train_X, axis=1, keepdims=True)\n",
        "test_X /= np.linalg.norm(test_X, axis=1, keepdims=True)"
      ],
      "execution_count": 0,
      "outputs": []
    },
    {
      "cell_type": "code",
      "metadata": {
        "id": "_YbV3OwaetYX",
        "colab_type": "code",
        "colab": {}
      },
      "source": [
        "# 矩陣乘法\n",
        "A = test_X @ train_X.T"
      ],
      "execution_count": 0,
      "outputs": []
    },
    {
      "cell_type": "code",
      "metadata": {
        "id": "jl73ppTGetYZ",
        "colab_type": "code",
        "colab": {}
      },
      "source": [
        "predict_y = train_y[A.argmax(axis=1)]"
      ],
      "execution_count": 0,
      "outputs": []
    },
    {
      "cell_type": "code",
      "metadata": {
        "id": "bP8XosC5etYa",
        "colab_type": "code",
        "colab": {},
        "outputId": "1615628c-99e4-48e1-afc2-8d242012db73"
      },
      "source": [
        "# 正確率\n",
        "(predict_y == test_y).mean()"
      ],
      "execution_count": 0,
      "outputs": [
        {
          "output_type": "execute_result",
          "data": {
            "text/plain": [
              "0.97030000000000005"
            ]
          },
          "metadata": {
            "tags": []
          },
          "execution_count": 25
        }
      ]
    },
    {
      "cell_type": "markdown",
      "metadata": {
        "collapsed": true,
        "id": "WeNg8jfQetYc",
        "colab_type": "text"
      },
      "source": [
        "## Q\n",
        "* 試試看不同的維度\n",
        "* 檢查看看 PCA 前後，定義的誤差函數之間的差別。\n",
        "* 使用 sklearn knn"
      ]
    }
  ]
}