{
  "nbformat": 4,
  "nbformat_minor": 0,
  "metadata": {
    "kernelspec": {
      "name": "python3",
      "display_name": "Python 3"
    },
    "language_info": {
      "codemirror_mode": {
        "name": "ipython",
        "version": 3
      },
      "file_extension": ".py",
      "mimetype": "text/x-python",
      "name": "python",
      "nbconvert_exporter": "python",
      "pygments_lexer": "ipython3",
      "version": "3.6.5"
    },
    "colab": {
      "name": "0858611mean_square_error.ipynb",
      "provenance": [],
      "collapsed_sections": []
    },
    "accelerator": "GPU"
  },
  "cells": [
    {
      "cell_type": "markdown",
      "metadata": {
        "id": "CY_m1W69pB2K",
        "colab_type": "text"
      },
      "source": [
        "使用sample code 下載訓練資料"
      ]
    },
    {
      "cell_type": "code",
      "metadata": {
        "id": "IgaCdXXqLb6K",
        "colab_type": "code",
        "colab": {}
      },
      "source": [
        "from PIL import Image\n",
        "import numpy as np"
      ],
      "execution_count": 0,
      "outputs": []
    },
    {
      "cell_type": "markdown",
      "metadata": {
        "id": "zQsCq8DNLb6O",
        "colab_type": "text"
      },
      "source": [
        "\n",
        "\n",
        "先下載 MNIST 資料\n"
      ]
    },
    {
      "cell_type": "code",
      "metadata": {
        "id": "p4tdM1VBLb6P",
        "colab_type": "code",
        "colab": {}
      },
      "source": [
        "import os\n",
        "import urllib\n",
        "from urllib.request import urlretrieve\n",
        "dataset = 'mnist.pkl.gz'\n",
        "def reporthook(a,b,c):\n",
        "    print(\"\\rdownloading: %5.1f%%\"%(a*b*100.0/c), end=\"\")\n",
        "    \n",
        "if not os.path.isfile(dataset):\n",
        "        origin = \"https://github.com/mnielsen/neural-networks-and-deep-learning/raw/master/data/mnist.pkl.gz\"\n",
        "        print('Downloading data from %s' % origin)\n",
        "        urlretrieve(origin, dataset, reporthook=reporthook)"
      ],
      "execution_count": 0,
      "outputs": []
    },
    {
      "cell_type": "code",
      "metadata": {
        "id": "hECnQAqgLb6S",
        "colab_type": "code",
        "colab": {}
      },
      "source": [
        "import gzip\n",
        "import pickle\n",
        "with gzip.open(dataset, 'rb') as f:\n",
        "    train_set, validation_set, test_set = pickle.load(f, encoding='latin1')"
      ],
      "execution_count": 0,
      "outputs": []
    },
    {
      "cell_type": "code",
      "metadata": {
        "id": "wVA_tQXzLb6U",
        "colab_type": "code",
        "colab": {}
      },
      "source": [
        "# 設定好訓練及測試資料\n",
        "train_X, train_y = train_set\n",
        "test_X, test_y = test_set\n",
        "# 設定成我們的格式\n",
        "train_X = train_X[..., None]\n",
        "test_X = test_X[..., None]\n"
      ],
      "execution_count": 0,
      "outputs": []
    },
    {
      "cell_type": "code",
      "metadata": {
        "id": "_hHZFoYRLb6W",
        "colab_type": "code",
        "outputId": "a943af8a-2298-45d0-c2c1-488aed8ea64b",
        "colab": {
          "base_uri": "https://localhost:8080/",
          "height": 50
        }
      },
      "source": [
        "# 有 10 種類別，輸入的是 784 維\n",
        "print(train_X.shape)\n",
        "print(np.unique(train_y))"
      ],
      "execution_count": 101,
      "outputs": [
        {
          "output_type": "stream",
          "text": [
            "(50000, 784, 1)\n",
            "[0 1 2 3 4 5 6 7 8 9]\n"
          ],
          "name": "stdout"
        }
      ]
    },
    {
      "cell_type": "code",
      "metadata": {
        "id": "5FRB-XY3Lb6Y",
        "colab_type": "code",
        "outputId": "7dad1427-f61e-4d8a-fe0e-aa09790c77d2",
        "colab": {
          "base_uri": "https://localhost:8080/",
          "height": 62
        }
      },
      "source": [
        "from IPython.display import display\n",
        "def showX(X):\n",
        "    int_X = (X*255).clip(0,255).astype('uint8')\n",
        "    # N*784 -> N*28*28 -> 28*N*28 -> 28 * 28N\n",
        "    int_X_reshape = int_X.reshape(-1,28,28).swapaxes(0,1).reshape(28,-1)\n",
        "    display(Image.fromarray(int_X_reshape))\n",
        "# 訓練資料， X 的前 20 筆\n",
        "print(train_y[:20])\n",
        "showX(train_X[:20])"
      ],
      "execution_count": 102,
      "outputs": [
        {
          "output_type": "stream",
          "text": [
            "[5 0 4 1 9 2 1 3 1 4 3 5 3 6 1 7 2 8 6 9]\n"
          ],
          "name": "stdout"
        },
        {
          "output_type": "display_data",
          "data": {
            "image/png": "[encoded data removed]",
            "text/plain": [
              "<PIL.Image.Image image mode=L size=560x28 at 0x7FDC3FE7C9B0>"
            ]
          },
          "metadata": {
            "tags": []
          }
        }
      ]
    },
    {
      "cell_type": "code",
      "metadata": {
        "id": "OQZlFXohLb6a",
        "colab_type": "code",
        "outputId": "214717ec-fe4d-446f-a0eb-15d0bbcc161c",
        "colab": {
          "base_uri": "https://localhost:8080/",
          "height": 871
        }
      },
      "source": [
        "#改成mean square error算法\n",
        "#由於效果差更改成兩層(有可能是微分寫錯或是mean square error不適合)\n",
        "# 參考範例 softmax regression\n",
        "W = np.random.normal(size=(10, 784))\n",
        "b = np.random.normal(size=(10, 1))\n",
        "n_data = train_X.shape[0]\n",
        "# 紀錄 loss\n",
        "loss_history = []\n",
        "accuracy_history = []\n",
        "best_accuracy = 0\n",
        "for epoch in range(5001):    \n",
        "    idx = np.random.choice(n_data, 300, replace=False)\n",
        "    X = train_X[idx]\n",
        "    y = train_y[idx]\n",
        "    one_y = np.eye(10)[y][..., None]\n",
        "    #d = np.exp(W @ X + b)\n",
        "    d = W @ X + b\n",
        "    q = d/d.sum(axis=(1,2), keepdims=True) \n",
        "    #loss = -np.log(q[range(len(y)), y]).mean()\n",
        "    ####更改計算loss\n",
        "    loss = ((q-one_y)**2).mean()\n",
        "    #print(\"loss\",loss)\n",
        "    ####\n",
        "    loss_history.append(loss)\n",
        "    accuracy = (q.argmax(axis=1).ravel() == y).mean()\n",
        "    accuracy_history.append(accuracy)\n",
        "    if accuracy > best_accuracy:\n",
        "        best_accuracy = accuracy\n",
        "    if epoch%100 == 0:\n",
        "        #print(epoch,best_accuracy, loss)\n",
        "        print(epoch, accuracy, loss)\n",
        "    #grad_b_all = q - one_y\n",
        "    grad_b_all = (2*(q - one_y)**2)/10\n",
        "    #print(\"grad_b_all\",grad_b_all)\n",
        "    grad_b = grad_b_all.mean(axis=0)\n",
        "    grad_W_all = grad_b_all @ X.swapaxes(1,2)\n",
        "    grad_W = grad_W_all.mean(axis=0)\n",
        "    W -= grad_W\n",
        "    b -= grad_b    "
      ],
      "execution_count": 103,
      "outputs": [
        {
          "output_type": "stream",
          "text": [
            "0 0.06333333333333334 7114.793682930584\n",
            "100 0.13333333333333333 0.09657066863876612\n",
            "200 0.09333333333333334 0.09774193237143443\n",
            "300 0.09333333333333334 0.09740155874264603\n",
            "400 0.08666666666666667 0.09834414449186514\n",
            "500 0.10666666666666667 0.09669292996991553\n",
            "600 0.09333333333333334 0.09809779767525476\n",
            "700 0.10666666666666667 0.09727825188113724\n",
            "800 0.10666666666666667 0.09723198232120074\n",
            "900 0.09666666666666666 0.09757570711560089\n",
            "1000 0.09 0.09570612926317819\n",
            "1100 0.09666666666666666 0.0969652429592638\n",
            "1200 0.08 0.09856693081173803\n",
            "1300 0.11 0.09687768475914364\n",
            "1400 0.12333333333333334 0.09711841586250891\n",
            "1500 0.08333333333333333 0.09980512201670563\n",
            "1600 0.09333333333333334 0.09675459106600101\n",
            "1700 0.08666666666666667 0.09733244760950827\n",
            "1800 0.09333333333333334 0.0967524322655739\n",
            "1900 0.11666666666666667 0.0968775541418577\n",
            "2000 0.10666666666666667 0.09653885268983914\n",
            "2100 0.09 0.0975484620644277\n",
            "2200 0.10333333333333333 0.09702641987009017\n",
            "2300 0.1 0.09670192795607144\n",
            "2400 0.1 0.09644969294548994\n",
            "2500 0.11333333333333333 0.09605023651128682\n",
            "2600 0.10666666666666667 0.09744527024694061\n",
            "2700 0.10333333333333333 0.09556943232363423\n",
            "2800 0.09 0.09808590005751301\n",
            "2900 0.10333333333333333 0.09577560440409345\n",
            "3000 0.07333333333333333 0.09806694372673\n",
            "3100 0.10333333333333333 0.09685193016002062\n",
            "3200 0.08333333333333333 0.09763635588312655\n",
            "3300 0.10666666666666667 0.09780675722999532\n",
            "3400 0.1 0.09761487822871304\n",
            "3500 0.08333333333333333 0.09745018859394633\n",
            "3600 0.08666666666666667 0.0980765528965894\n",
            "3700 0.09666666666666666 0.09677529932390731\n",
            "3800 0.1 0.09866211935157795\n",
            "3900 0.08333333333333333 0.09729846719133457\n",
            "4000 0.1 0.09720540393303076\n",
            "4100 0.06666666666666667 0.09876461301715149\n",
            "4200 0.08666666666666667 0.09846500326659278\n",
            "4300 0.10666666666666667 0.09733172511760377\n",
            "4400 0.09333333333333334 0.09767954955715864\n",
            "4500 0.10333333333333333 0.0962425384406118\n",
            "4600 0.10666666666666667 0.09582686857646842\n",
            "4700 0.09666666666666666 0.09614749852474763\n",
            "4800 0.09 0.09625082820978395\n",
            "4900 0.12333333333333334 0.0957036765116131\n",
            "5000 0.09 0.09696388185051628\n"
          ],
          "name": "stdout"
        }
      ]
    },
    {
      "cell_type": "code",
      "metadata": {
        "id": "eCRzoluicLZd",
        "colab_type": "code",
        "outputId": "4ca0d69d-3759-419d-b16c-fbdb32f567db",
        "colab": {
          "base_uri": "https://localhost:8080/",
          "height": 854
        }
      },
      "source": [
        "#改成兩層測試  效果一樣差: (\n",
        "k =0.03\n",
        "A = np.random.normal(size=(20, 784))\n",
        "B = np.random.normal(size=(20, 1))\n",
        "E = np.random.normal(size=(10, 20))\n",
        "F = np.random.normal(size=(10, 1))\n",
        "n_data = train_X.shape[0]\n",
        "loss_history = []\n",
        "accuracy_history = []\n",
        "best_accuracy = 0\n",
        "for epoch in range(5000):    \n",
        "    idx = np.random.choice(n_data, 300, replace=False)\n",
        "    X = train_X[idx]\n",
        "    y = train_y[idx]\n",
        "    one_y = np.eye(10)[y][..., None]\n",
        "    C = A @ X + B ##(20*1)\n",
        "    D = E @ C + F ##(10*1)\n",
        "    G =  np.exp(D)\n",
        "    #C = np.exp(A @ X + B)\n",
        "    #d = W @ X + b\n",
        "    q = G/G.sum(axis=(1,2), keepdims=True) \n",
        "    #print(q)\n",
        "    #loss = -np.log(q[range(len(y)), y]).mean()\n",
        "    ####更改計算loss\n",
        "    loss = (((q-one_y)**2)/10).mean()\n",
        "    #print(\"loss\",loss)\n",
        "    ####\n",
        "    loss_history.append(loss)\n",
        "    accuracy = (q.argmax(axis=1).ravel() == y).mean()\n",
        "    accuracy_history.append(accuracy)\n",
        "    if accuracy > best_accuracy:\n",
        "        best_accuracy = accuracy\n",
        "    if epoch%100 == 0:\n",
        "        #print(epoch,best_accuracy, loss)\n",
        "        print(epoch, accuracy, loss)\n",
        "    #grad_b_all = q - one_y\n",
        "    grad_F_all = (2*(q - one_y)**2)/10\n",
        "    #print(\"grad_b_all\",grad_b_all)\n",
        "    grad_F = grad_F_all.mean(axis=0)\n",
        "    \n",
        "    #grad_C = E.swapaxes(1,2) @ grad_F\n",
        "    grad_C = E.T @ grad_F\n",
        "    \n",
        "    grad_E = grad_F @ grad_C.T\n",
        "    \n",
        "    grad_B = grad_C\n",
        "    \n",
        "    grad_A = grad_C @ X[0].T\n",
        "    \n",
        "    F -= k* grad_F\n",
        "    C -= k* grad_C\n",
        "    E -= k* grad_E\n",
        "    B -= k* grad_B\n",
        "    A -= k* grad_A\n",
        "    "
      ],
      "execution_count": 111,
      "outputs": [
        {
          "output_type": "stream",
          "text": [
            "0 0.11666666666666667 0.0173596831431228\n",
            "100 0.13 0.017094640794229714\n",
            "200 0.11666666666666667 0.017359169988099717\n",
            "300 0.12666666666666668 0.017143922506403512\n",
            "400 0.09666666666666666 0.017641381348562524\n",
            "500 0.1 0.017682339691744122\n",
            "600 0.09333333333333334 0.01776916784146744\n",
            "700 0.1 0.01766114058969395\n",
            "800 0.11 0.017372716482412637\n",
            "900 0.09666666666666666 0.017613609518303663\n",
            "1000 0.09 0.017859151204350568\n",
            "1100 0.09666666666666666 0.017688833732184866\n",
            "1200 0.10333333333333333 0.01753513205323338\n",
            "1300 0.09 0.017781342407244438\n",
            "1400 0.13666666666666666 0.016701086750041862\n",
            "1500 0.1 0.017635331928430725\n",
            "1600 0.1 0.01757004481762957\n",
            "1700 0.10333333333333333 0.01758922260063888\n",
            "1800 0.09666666666666666 0.017649081160679585\n",
            "1900 0.07 0.018219826457315097\n",
            "2000 0.14666666666666667 0.016698455061541807\n",
            "2100 0.11666666666666667 0.017196839593434377\n",
            "2200 0.11 0.01742160238822102\n",
            "2300 0.09 0.01777977652275655\n",
            "2400 0.06666666666666667 0.018323134917838105\n",
            "2500 0.10333333333333333 0.017459998186031223\n",
            "2600 0.09666666666666666 0.017660715546654143\n",
            "2700 0.08666666666666667 0.01784653663411394\n",
            "2800 0.08666666666666667 0.017649084136846484\n",
            "2900 0.14666666666666667 0.01675965129628262\n",
            "3000 0.1 0.0175656830485755\n",
            "3100 0.10333333333333333 0.01760823753695582\n",
            "3200 0.10666666666666667 0.017523459088367783\n",
            "3300 0.09666666666666666 0.017686049378599942\n",
            "3400 0.09 0.017854796024016528\n",
            "3500 0.09666666666666666 0.017523857902146805\n",
            "3600 0.12 0.017219957601342376\n",
            "3700 0.10333333333333333 0.017519672918640844\n",
            "3800 0.11 0.017409226277644237\n",
            "3900 0.10666666666666667 0.017382916991582426\n",
            "4000 0.09333333333333334 0.017592101702003017\n",
            "4100 0.11 0.01747566712509661\n",
            "4200 0.11333333333333333 0.01747497578905743\n",
            "4300 0.08666666666666667 0.017880371437073207\n",
            "4400 0.10333333333333333 0.01754652618887567\n",
            "4500 0.09 0.017866280658200586\n",
            "4600 0.13333333333333333 0.01702916150834258\n",
            "4700 0.08 0.01802622696044032\n",
            "4800 0.11333333333333333 0.01737144855174612\n",
            "4900 0.07666666666666666 0.018032435069930637\n"
          ],
          "name": "stdout"
        }
      ]
    },
    {
      "cell_type": "code",
      "metadata": {
        "id": "a6eP9AScIOF2",
        "colab_type": "code",
        "outputId": "cf2b186c-49a2-46c7-c0f5-3aa618f194ad",
        "colab": {
          "base_uri": "https://localhost:8080/",
          "height": 50
        }
      },
      "source": [
        "    idx = np.random.choice(n_data, 300, replace=False)\n",
        "    X = train_X[idx]\n",
        "    y = train_y[idx]\n",
        "    print(X[1].shape)\n",
        "    print(y[:2])"
      ],
      "execution_count": 105,
      "outputs": [
        {
          "output_type": "stream",
          "text": [
            "(784, 1)\n",
            "[0 7]\n"
          ],
          "name": "stdout"
        }
      ]
    },
    {
      "cell_type": "code",
      "metadata": {
        "id": "6D4ghZ8rLb6c",
        "colab_type": "code",
        "outputId": "245e4aa6-7974-4cdb-aacf-d7ddb2592201",
        "colab": {
          "base_uri": "https://localhost:8080/",
          "height": 33
        }
      },
      "source": [
        "# test data 的正確率\n",
        "((W @ test_X + b).argmax(axis=1).ravel() == test_y).mean()"
      ],
      "execution_count": 106,
      "outputs": [
        {
          "output_type": "execute_result",
          "data": {
            "text/plain": [
              "0.0397"
            ]
          },
          "metadata": {
            "tags": []
          },
          "execution_count": 106
        }
      ]
    },
    {
      "cell_type": "code",
      "metadata": {
        "id": "1-_TJ1xLLb6e",
        "colab_type": "code",
        "outputId": "4924bd3b-3f63-46fd-e01d-6cca717b5c26",
        "colab": {
          "base_uri": "https://localhost:8080/",
          "height": 269
        }
      },
      "source": [
        "%matplotlib inline\n",
        "import matplotlib.pyplot as plt\n",
        "# 準確率的圖\n",
        "plt.plot(accuracy_history);"
      ],
      "execution_count": 107,
      "outputs": [
        {
          "output_type": "display_data",
          "data": {
            "image/png": "[encoded data removed]",
            "text/plain": [
              "<Figure size 432x288 with 1 Axes>"
            ]
          },
          "metadata": {
            "tags": []
          }
        }
      ]
    },
    {
      "cell_type": "code",
      "metadata": {
        "id": "WL3R6JK5Lb6f",
        "colab_type": "code",
        "outputId": "d713a5a8-9a90-4f5c-82f5-74937065f155",
        "colab": {
          "base_uri": "https://localhost:8080/",
          "height": 269
        }
      },
      "source": [
        "# loss 的圖\n",
        "plt.plot(loss_history);"
      ],
      "execution_count": 108,
      "outputs": [
        {
          "output_type": "display_data",
          "data": {
            "image/png": "[encoded data removed]",
            "text/plain": [
              "<Figure size 432x288 with 1 Axes>"
            ]
          },
          "metadata": {
            "tags": []
          }
        }
      ]
    },
    {
      "cell_type": "code",
      "metadata": {
        "id": "dsbsL3PNLb6h",
        "colab_type": "code",
        "colab": {}
      },
      "source": [
        "def softmax(x):\n",
        "    t = np.exp(x)\n",
        "    return t/t.sum(axis=(-2,-1),keepdims=True)\n",
        "def relu(x):\n",
        "    return np.maximum(x, 0)\n",
        "def sigmoid(x):\n",
        "    return 1/(1+np.exp(-x))\n",
        "\n",
        "# 微分\n",
        "def Drelu(x):\n",
        "    return (x>0).astype('float32')\n",
        "def Dsigmoid(x):\n",
        "    q = sigmoid(x)\n",
        "    return q * (1-q) \n",
        "    # or \n",
        "    #return np.exp(x)/(1+np.exp(-x))**2"
      ],
      "execution_count": 0,
      "outputs": []
    }
  ]
}