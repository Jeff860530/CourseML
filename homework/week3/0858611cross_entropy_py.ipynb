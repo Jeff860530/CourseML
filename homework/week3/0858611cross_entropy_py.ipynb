{
  "nbformat": 4,
  "nbformat_minor": 0,
  "metadata": {
    "kernelspec": {
      "name": "python3",
      "display_name": "Python 3"
    },
    "language_info": {
      "codemirror_mode": {
        "name": "ipython",
        "version": 3
      },
      "file_extension": ".py",
      "mimetype": "text/x-python",
      "name": "python",
      "nbconvert_exporter": "python",
      "pygments_lexer": "ipython3",
      "version": "3.6.5"
    },
    "colab": {
      "name": "0858611cross_entropy.py.ipynb",
      "provenance": [],
      "collapsed_sections": []
    },
    "accelerator": "GPU"
  },
  "cells": [
    {
      "cell_type": "markdown",
      "metadata": {
        "id": "GhtvfMA8f8wX",
        "colab_type": "text"
      },
      "source": [
        "使用sample code 下載訓練資料"
      ]
    },
    {
      "cell_type": "code",
      "metadata": {
        "id": "IgaCdXXqLb6K",
        "colab_type": "code",
        "colab": {}
      },
      "source": [
        "from PIL import Image\n",
        "import numpy as np"
      ],
      "execution_count": 0,
      "outputs": []
    },
    {
      "cell_type": "markdown",
      "metadata": {
        "id": "zQsCq8DNLb6O",
        "colab_type": "text"
      },
      "source": [
        "\n",
        "\n",
        "先下載 MNIST 資料\n"
      ]
    },
    {
      "cell_type": "code",
      "metadata": {
        "id": "p4tdM1VBLb6P",
        "colab_type": "code",
        "colab": {}
      },
      "source": [
        "import os\n",
        "import urllib\n",
        "from urllib.request import urlretrieve\n",
        "dataset = 'mnist.pkl.gz'\n",
        "def reporthook(a,b,c):\n",
        "    print(\"\\rdownloading: %5.1f%%\"%(a*b*100.0/c), end=\"\")\n",
        "    \n",
        "if not os.path.isfile(dataset):\n",
        "        origin = \"https://github.com/mnielsen/neural-networks-and-deep-learning/raw/master/data/mnist.pkl.gz\"\n",
        "        print('Downloading data from %s' % origin)\n",
        "        urlretrieve(origin, dataset, reporthook=reporthook)"
      ],
      "execution_count": 0,
      "outputs": []
    },
    {
      "cell_type": "code",
      "metadata": {
        "id": "hECnQAqgLb6S",
        "colab_type": "code",
        "colab": {}
      },
      "source": [
        "import gzip\n",
        "import pickle\n",
        "with gzip.open(dataset, 'rb') as f:\n",
        "    train_set, validation_set, test_set = pickle.load(f, encoding='latin1')"
      ],
      "execution_count": 0,
      "outputs": []
    },
    {
      "cell_type": "code",
      "metadata": {
        "id": "wVA_tQXzLb6U",
        "colab_type": "code",
        "colab": {}
      },
      "source": [
        "# 設定好訓練及測試資料\n",
        "train_X, train_y = train_set\n",
        "test_X, test_y = test_set\n",
        "# 設定成我們的格式  (實際作用轉置)\n",
        "train_X = train_X[..., None]\n",
        "test_X = test_X[..., None]\n"
      ],
      "execution_count": 0,
      "outputs": []
    },
    {
      "cell_type": "code",
      "metadata": {
        "id": "_hHZFoYRLb6W",
        "colab_type": "code",
        "outputId": "106c57a7-84bc-4d91-8808-4dd44c1ae26c",
        "colab": {
          "base_uri": "https://localhost:8080/",
          "height": 50
        }
      },
      "source": [
        "# 有 10 種類別，輸入的是 784 維\n",
        "print(train_X.shape)          ##查看data的模樣 50000筆,781*1矩陣\n",
        "print(np.unique(train_y))     ##輸出不同的label 0~9"
      ],
      "execution_count": 5,
      "outputs": [
        {
          "output_type": "stream",
          "text": [
            "(50000, 784, 1)\n",
            "[0 1 2 3 4 5 6 7 8 9]\n"
          ],
          "name": "stdout"
        }
      ]
    },
    {
      "cell_type": "code",
      "metadata": {
        "id": "5FRB-XY3Lb6Y",
        "colab_type": "code",
        "outputId": "0b6cf09b-37cd-4951-d0f6-57b49ec3a210",
        "colab": {
          "base_uri": "https://localhost:8080/",
          "height": 62
        }
      },
      "source": [
        "from IPython.display import display\n",
        "def showX(X):\n",
        "    int_X = (X*255).clip(0,255).astype('uint8')\n",
        "    # N*784 -> N*28*28 -> 28*N*28 -> 28 * 28N\n",
        "    int_X_reshape = int_X.reshape(-1,28,28).swapaxes(0,1).reshape(28,-1)\n",
        "    display(Image.fromarray(int_X_reshape))\n",
        "# 訓練資料， X 的前 20 筆\n",
        "print(train_y[:20])\n",
        "showX(train_X[:20])"
      ],
      "execution_count": 6,
      "outputs": [
        {
          "output_type": "stream",
          "text": [
            "[5 0 4 1 9 2 1 3 1 4 3 5 3 6 1 7 2 8 6 9]\n"
          ],
          "name": "stdout"
        },
        {
          "output_type": "display_data",
          "data": {
            "image/png": "[encoded data removed]",
            "text/plain": [
              "<PIL.Image.Image image mode=L size=560x28 at 0x7F914FF79A90>"
            ]
          },
          "metadata": {
            "tags": []
          }
        }
      ]
    },
    {
      "cell_type": "code",
      "metadata": {
        "id": "AvEbgcXx1rlx",
        "colab_type": "code",
        "colab": {
          "base_uri": "https://localhost:8080/",
          "height": 33
        },
        "outputId": "830a5758-53c0-480d-e18f-a19f125cc225"
      },
      "source": [
        "X = train_X[0]\n",
        "X.shape"
      ],
      "execution_count": 22,
      "outputs": [
        {
          "output_type": "execute_result",
          "data": {
            "text/plain": [
              "(784, 1)"
            ]
          },
          "metadata": {
            "tags": []
          },
          "execution_count": 22
        }
      ]
    },
    {
      "cell_type": "code",
      "metadata": {
        "id": "OQZlFXohLb6a",
        "colab_type": "code",
        "outputId": "2b74ac17-965a-4e00-95f6-d1addc7541e8",
        "colab": {
          "base_uri": "https://localhost:8080/",
          "height": 854
        }
      },
      "source": [
        "# 參考範例 softmax regression\n",
        "W = np.random.normal(size=(10, 784)) ##隨機產生矩陣\n",
        "b = np.random.normal(size=(10, 1))\n",
        "n_data = train_X.shape[0]\n",
        "# 紀錄 loss\n",
        "loss_history = []\n",
        "accuracy_history = []\n",
        "for epoch in range(5000):    \n",
        "    idx = np.random.choice(n_data, 300, replace=False)\n",
        "    #print(idx)\n",
        "    X = train_X[idx]\n",
        "    #print(X)\n",
        "    y = train_y[idx]\n",
        "    one_y = np.eye(10)[y][..., None]          ##softmax 和 cross_entropy的微分可以合成a(1-a)*-1/a  (a-1)\n",
        "    d = np.exp(W @ X + b)                     ##用隨機矩陣算出10*1矩陣  然後各項取exp\n",
        "    #print(d)\n",
        "    q = d/d.sum(axis=(1,2), keepdims=True)    ##轉成機率0~9項加起來機率為1\n",
        "    #print(q)\n",
        "    loss = -np.log(q[range(len(y)), y]).mean()##計算300項平均loss單純紀錄\n",
        "    #print(\"loss:\",loss)\n",
        "    #print(\"len(y):\",len(y))\n",
        "    #print(\"q[range(len(y)), y]\",q[range(len(y)), y])\n",
        "    #print(\"(q[range(len(y)), y]).mean()\",(q[range(len(y)), y]).mean())\n",
        "    loss_history.append(loss)                 ##紀錄\n",
        "    accuracy = (q.argmax(axis=1).ravel() == y).mean()##如果預測=實際標籤\n",
        "    accuracy_history.append(accuracy)\n",
        "    if epoch%100 == 0:\n",
        "        print(epoch, accuracy, loss)\n",
        "    grad_b_all = q - one_y                    ##上方偏微分合成-->grad_b只有扣掉one_y one_y為正確的label行的單位矩陣\n",
        "    grad_b = grad_b_all.mean(axis=0)          ##將300項的偏微分後取平均\n",
        "    grad_W_all = grad_b_all @ X.swapaxes(1,2) ##將grad_b@上原X轉置 變成10*784矩陣\n",
        "    grad_W = grad_W_all.mean(axis=0)          ##取平均\n",
        "    W -=  grad_W\n",
        "    b -= grad_b    \n"
      ],
      "execution_count": 85,
      "outputs": [
        {
          "output_type": "stream",
          "text": [
            "0 0.15333333333333332 14.63223380288235\n",
            "100 0.7933333333333333 0.9889771452523318\n",
            "200 0.8166666666666667 0.9063788945624003\n",
            "300 0.8366666666666667 0.7049083502095693\n",
            "400 0.86 0.6254087933357959\n",
            "500 0.8366666666666667 0.8138982105650922\n",
            "600 0.8766666666666667 0.6269772414889172\n",
            "700 0.8533333333333334 0.6842706022167242\n",
            "800 0.8833333333333333 0.5595314817566176\n",
            "900 0.8966666666666666 0.4254446426708707\n",
            "1000 0.89 0.3429665420414404\n",
            "1100 0.9166666666666666 0.3656383245729867\n",
            "1200 0.8766666666666667 0.5020489929617965\n",
            "1300 0.86 0.5777867899915429\n",
            "1400 0.92 0.33195484450001483\n",
            "1500 0.8966666666666666 0.49935780511049777\n",
            "1600 0.8966666666666666 0.4208854971674009\n",
            "1700 0.91 0.4469923072062955\n",
            "1800 0.8866666666666667 0.3638871846588336\n",
            "1900 0.8966666666666666 0.3795065746268861\n",
            "2000 0.9033333333333333 0.39756098348104224\n",
            "2100 0.9033333333333333 0.3648252799070942\n",
            "2200 0.9033333333333333 0.4251138235567569\n",
            "2300 0.9066666666666666 0.300456574976408\n",
            "2400 0.9233333333333333 0.3570454592352217\n",
            "2500 0.9 0.29336574858850406\n",
            "2600 0.9133333333333333 0.26811132916274727\n",
            "2700 0.9466666666666667 0.25624711096965225\n",
            "2800 0.9033333333333333 0.3027022438457369\n",
            "2900 0.8966666666666666 0.3592026925646619\n",
            "3000 0.8933333333333333 0.4703697011457714\n",
            "3100 0.9233333333333333 0.2877865083503161\n",
            "3200 0.9033333333333333 0.32763096640780465\n",
            "3300 0.9166666666666666 0.4595046434757499\n",
            "3400 0.8833333333333333 0.43780207522875353\n",
            "3500 0.94 0.19893845768288937\n",
            "3600 0.8933333333333333 0.2636233359486599\n",
            "3700 0.8966666666666666 0.4196964566058407\n",
            "3800 0.8866666666666667 0.42541586769867784\n",
            "3900 0.9033333333333333 0.2738070065568107\n",
            "4000 0.92 0.3551368243610346\n",
            "4100 0.95 0.18790323480108376\n",
            "4200 0.9233333333333333 0.33307000523250596\n",
            "4300 0.93 0.2814670046997638\n",
            "4400 0.94 0.20978970703944783\n",
            "4500 0.9366666666666666 0.18932532266742044\n",
            "4600 0.9333333333333333 0.2176778535304439\n",
            "4700 0.9233333333333333 0.2839412452724035\n",
            "4800 0.8966666666666666 0.3317701847363448\n",
            "4900 0.9133333333333333 0.25237696999404663\n"
          ],
          "name": "stdout"
        }
      ]
    },
    {
      "cell_type": "code",
      "metadata": {
        "id": "645cAK4cB7u2",
        "colab_type": "code",
        "colab": {
          "base_uri": "https://localhost:8080/",
          "height": 134
        },
        "outputId": "456f261d-83e9-4127-ebf6-b5dd4dd7a753"
      },
      "source": [
        "\n",
        "print(grad_W_all)\n",
        "#print(grad_W)"
      ],
      "execution_count": 80,
      "outputs": [
        {
          "output_type": "stream",
          "text": [
            "[[[0. 0. 0. ... 0. 0. 0.]\n",
            "  [0. 0. 0. ... 0. 0. 0.]\n",
            "  [0. 0. 0. ... 0. 0. 0.]\n",
            "  ...\n",
            "  [0. 0. 0. ... 0. 0. 0.]\n",
            "  [0. 0. 0. ... 0. 0. 0.]\n",
            "  [0. 0. 0. ... 0. 0. 0.]]]\n"
          ],
          "name": "stdout"
        }
      ]
    },
    {
      "cell_type": "code",
      "metadata": {
        "id": "a6eP9AScIOF2",
        "colab_type": "code",
        "colab": {
          "base_uri": "https://localhost:8080/",
          "height": 50
        },
        "outputId": "3305eb8f-6814-4872-bbef-20ef8bb8a4f6"
      },
      "source": [
        "    idx = np.random.choice(n_data, 300, replace=False)\n",
        "    X = train_X[idx]\n",
        "    y = train_y[idx]\n",
        "    print(X[1].shape)\n",
        "    print(y[:2])"
      ],
      "execution_count": 8,
      "outputs": [
        {
          "output_type": "stream",
          "text": [
            "(784, 1)\n",
            "[4 9]\n"
          ],
          "name": "stdout"
        }
      ]
    },
    {
      "cell_type": "code",
      "metadata": {
        "id": "6D4ghZ8rLb6c",
        "colab_type": "code",
        "colab": {
          "base_uri": "https://localhost:8080/",
          "height": 33
        },
        "outputId": "2a781683-f6d0-49b7-91fe-b6a3779818f9"
      },
      "source": [
        "# test data 的正確率\n",
        "((W @ test_X + b).argmax(axis=1).ravel() == test_y).mean()"
      ],
      "execution_count": 9,
      "outputs": [
        {
          "output_type": "execute_result",
          "data": {
            "text/plain": [
              "0.2446"
            ]
          },
          "metadata": {
            "tags": []
          },
          "execution_count": 9
        }
      ]
    },
    {
      "cell_type": "code",
      "metadata": {
        "id": "1-_TJ1xLLb6e",
        "colab_type": "code",
        "colab": {
          "base_uri": "https://localhost:8080/",
          "height": 269
        },
        "outputId": "8a5f7b40-2a6e-4a71-f2f4-09b0a01998ed"
      },
      "source": [
        "%matplotlib inline\n",
        "import matplotlib.pyplot as plt\n",
        "# 準確率的圖\n",
        "plt.plot(accuracy_history);"
      ],
      "execution_count": 10,
      "outputs": [
        {
          "output_type": "display_data",
          "data": {
            "image/png": "[encoded data removed]",
            "text/plain": [
              "<Figure size 432x288 with 1 Axes>"
            ]
          },
          "metadata": {
            "tags": []
          }
        }
      ]
    },
    {
      "cell_type": "code",
      "metadata": {
        "id": "WL3R6JK5Lb6f",
        "colab_type": "code",
        "colab": {
          "base_uri": "https://localhost:8080/",
          "height": 269
        },
        "outputId": "a72d4a2b-67c1-4858-e8ca-5e62d65837ed"
      },
      "source": [
        "# loss 的圖\n",
        "plt.plot(loss_history);"
      ],
      "execution_count": 11,
      "outputs": [
        {
          "output_type": "display_data",
          "data": {
            "image/png": "[encoded data removed]",
            "text/plain": [
              "<Figure size 432x288 with 1 Axes>"
            ]
          },
          "metadata": {
            "tags": []
          }
        }
      ]
    },
    {
      "cell_type": "code",
      "metadata": {
        "id": "dsbsL3PNLb6h",
        "colab_type": "code",
        "colab": {}
      },
      "source": [
        "def softmax(x):\n",
        "    t = np.exp(x)\n",
        "    return t/t.sum(axis=(-2,-1),keepdims=True)\n",
        "def relu(x):\n",
        "    return np.maximum(x, 0)\n",
        "def sigmoid(x):\n",
        "    return 1/(1+np.exp(-x))\n",
        "\n",
        "# 微分\n",
        "def Drelu(x):\n",
        "    return (x>0).astype('float32')\n",
        "def Dsigmoid(x):\n",
        "    q = sigmoid(x)\n",
        "    return q * (1-q) \n",
        "    # or \n",
        "    #return np.exp(x)/(1+np.exp(-x))**2"
      ],
      "execution_count": 0,
      "outputs": []
    }
  ]
}